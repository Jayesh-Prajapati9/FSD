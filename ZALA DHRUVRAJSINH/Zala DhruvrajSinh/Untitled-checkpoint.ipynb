{
 "cells": [
  {
   "cell_type": "code",
   "execution_count": 3,
   "metadata": {},
   "outputs": [],
   "source": [
    "f=open(\"P2.txt\",\"w\")\n",
    "x=[\"Hello\",\"Hi\",\"How\"]\n",
    "f.writelines(x)\n",
    "f.close()"
   ]
  },
  {
   "cell_type": "code",
   "execution_count": null,
   "metadata": {},
   "outputs": [],
   "source": [
    "# Reading line by enumerate function\n",
    "name=open(input(\"Enter File Name:\"))\n",
    "for i,line in enumerate(name):\n",
    "    if i%5 and i!=0:\n",
    "        x=input(\"Enter q to quit and any key to continue\")\n",
    "        if x.lower()==\"q\":\n",
    "            break\n",
    "        else:\n",
    "            print(line)\n",
    "    else:\n",
    "        print(line)"
   ]
  },
  {
   "cell_type": "code",
   "execution_count": null,
   "metadata": {},
   "outputs": [],
   "source": [
    "# wap to find longest words or word from a given text file\n",
    "# Reading a File By taking FIle namefrom User\n",
    "f=open(\"P2.txt\",\"r\")\n",
    "d={}\n",
    "for i in f.read().split():\n",
    "    if i not in d:\n",
    "        d[i]=len(i)\n",
    "\n",
    "long=max(d.values())\n",
    "print(d)\n",
    "\n",
    "for i,j in d.items():\n",
    "    if j==long:\n",
    "        print(i,\"-->\",j)"
   ]
  },
  {
   "cell_type": "code",
   "execution_count": null,
   "metadata": {},
   "outputs": [],
   "source": [
    "# wap to find longest words or word from a given text file\n",
    "# Reading a File By taking FIle namefrom User\n",
    "f=open(\"P2.txt\",\"r\")\n",
    "max=0\n",
    "l=list()\n",
    "for i in f:\n",
    "    s=i.split()\n",
    "    for j in s:\n",
    "        if len(j)>max:\n",
    "            max=len(j)\n",
    "        l.append(j)\n",
    "\n",
    "for i in l:\n",
    "    if len(i)==max:\n",
    "        print(i)"
   ]
  },
  {
   "cell_type": "code",
   "execution_count": null,
   "metadata": {},
   "outputs": [],
   "source": [
    "f=open(\"write.txt\",\"a+\")#also r+\n",
    "# print(f.read(4))\n",
    "f.seek(4)\n",
    "f.write(\"xyz\")\n",
    "f.seek(0)\n",
    "print(f.read())\n",
    "f.close()\n"
   ]
  },
  {
   "cell_type": "code",
   "execution_count": null,
   "metadata": {},
   "outputs": [],
   "source": [
    "f=open(\"write.txt\",\"w+\")\n",
    "f.write(\"abc\")\n",
    "f.write(\"Hi\")\n",
    "f.seek(0)\n",
    "print(f.read())\n",
    "f.close()"
   ]
  },
  {
   "cell_type": "code",
   "execution_count": null,
   "metadata": {},
   "outputs": [],
   "source": [
    "# Wap to compare to text files if they are different give the line and character number in the files where\n",
    "# the first difference occurs \n",
    "f1=open(\"P1.txt\")\n",
    "f2=open(\"P2.txt\")\n",
    "file1=f1.readlines()\n",
    "file2=f2.readlines()\n",
    "f1.close()\n",
    "f2.close()\n",
    "for i,line in enumerate(file1):\n",
    "    if line!=file2[i]:\n",
    "        for j,char in enumerate(line):\n",
    "            if char!=file2[i][j]:\n",
    "                print(\"Line Numbers\",i+1,\"Char Numbers\",j+1)\n",
    "                break\n",
    "        break"
   ]
  },
  {
   "cell_type": "code",
   "execution_count": null,
   "metadata": {},
   "outputs": [],
   "source": [
    "# You are given a file called LogFile.txt that has logon and logoff times for the users each line has 3 entries\n",
    "# seperated by comma 1 is username 2 is logon time 3 is logfftime times are given in 24hours format \n",
    "# you may assume that all logon and logoff occur within a day.WAP that scans through the file and prints out who were\n",
    "# online for atleast an hour with that online time\n",
    "f=open(\"P1.txt\",\"r\")\n",
    "l1=f.readlines()\n",
    "l=[]\n",
    "for i in l1:\n",
    "    h=i.split(\",\")\n",
    "    h1=h[1].split(\":\")\n",
    "    h2=h[2].split(\":\")\n",
    "    l.append((int(h2[0])-int(h1[0]))*60+(int(h2[1])-int(h1[1])))"
   ]
  },
  {
   "cell_type": "code",
   "execution_count": null,
   "metadata": {},
   "outputs": [],
   "source": [
    "f=open(\"namelist.txt\")\n",
    "s=f.readlines()\n",
    "f.close()\n",
    "lines=[line.strip() for line in s]\n",
    "data=[line.split() for line in lines]\n",
    "user=input(\"Enter Initials:\").upper()\n",
    "u=list(user)\n",
    "for j in data:\n",
    "    if len(u)==2:\n",
    "        if u[0]==j[0][0] and u[1]==j[-1][0]:\n",
    "            print(\" \".join(j))\n",
    "    elif len(u)==3:\n",
    "        if len(j)==3:\n",
    "            if u[0]==j[0][0] and u[1]==j[1][0] and u[2]==j[2][0]:\n",
    "                print(\" \".join(j))\n",
    "    else:\n",
    "        print(\"2 or 3 Characters\")\n",
    "        break"
   ]
  }
 ],
 "metadata": {
  "kernelspec": {
   "display_name": "Python 3",
   "language": "python",
   "name": "python3"
  },
  "language_info": {
   "codemirror_mode": {
    "name": "ipython",
    "version": 3
   },
   "file_extension": ".py",
   "mimetype": "text/x-python",
   "name": "python",
   "nbconvert_exporter": "python",
   "pygments_lexer": "ipython3",
   "version": "3.8.5"
  }
 },
 "nbformat": 4,
 "nbformat_minor": 4
}
