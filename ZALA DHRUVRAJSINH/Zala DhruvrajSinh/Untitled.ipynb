{
 "cells": [
  {
   "cell_type": "code",
   "execution_count": 9,
   "metadata": {},
   "outputs": [
    {
     "name": "stdout",
     "output_type": "stream",
     "text": [
      "abc\n",
      "210000\n",
      "abc\n",
      "True\n",
      "152\n"
     ]
    },
    {
     "ename": "AttributeError",
     "evalue": "a",
     "output_type": "error",
     "traceback": [
      "\u001b[1;31m---------------------------------------------------------------------------\u001b[0m",
      "\u001b[1;31mAttributeError\u001b[0m                            Traceback (most recent call last)",
      "\u001b[1;32m<ipython-input-9-1e8374a0cbf6>\u001b[0m in \u001b[0;36m<module>\u001b[1;34m\u001b[0m\n\u001b[0;32m     12\u001b[0m \u001b[0msetattr\u001b[0m\u001b[1;33m(\u001b[0m\u001b[0me1\u001b[0m\u001b[1;33m,\u001b[0m\u001b[1;34m'height'\u001b[0m\u001b[1;33m,\u001b[0m\u001b[1;36m152\u001b[0m\u001b[1;33m)\u001b[0m\u001b[1;33m\u001b[0m\u001b[1;33m\u001b[0m\u001b[0m\n\u001b[0;32m     13\u001b[0m \u001b[0mprint\u001b[0m\u001b[1;33m(\u001b[0m\u001b[0mgetattr\u001b[0m\u001b[1;33m(\u001b[0m\u001b[0me1\u001b[0m\u001b[1;33m,\u001b[0m\u001b[1;34m'height'\u001b[0m\u001b[1;33m,\u001b[0m\u001b[1;36m152\u001b[0m\u001b[1;33m)\u001b[0m\u001b[1;33m)\u001b[0m\u001b[1;33m\u001b[0m\u001b[1;33m\u001b[0m\u001b[0m\n\u001b[1;32m---> 14\u001b[1;33m \u001b[0mdelattr\u001b[0m\u001b[1;33m(\u001b[0m\u001b[0memp\u001b[0m\u001b[1;33m,\u001b[0m\u001b[1;34m'a'\u001b[0m\u001b[1;33m)\u001b[0m\u001b[1;33m\u001b[0m\u001b[1;33m\u001b[0m\u001b[0m\n\u001b[0m\u001b[0;32m     15\u001b[0m \u001b[0mprint\u001b[0m\u001b[1;33m(\u001b[0m\u001b[0mhasattr\u001b[0m\u001b[1;33m(\u001b[0m\u001b[0me1\u001b[0m\u001b[1;33m,\u001b[0m\u001b[1;34m'salary'\u001b[0m\u001b[1;33m)\u001b[0m\u001b[1;33m)\u001b[0m\u001b[1;33m\u001b[0m\u001b[1;33m\u001b[0m\u001b[0m\n",
      "\u001b[1;31mAttributeError\u001b[0m: a"
     ]
    }
   ],
   "source": [
    "class emp:\n",
    "    name=\"abc\"\n",
    "    salary=210000\n",
    "    def show(self):\n",
    "        self.a=1\n",
    "        print(self.name)\n",
    "        print(self.salary)\n",
    "e1=emp()\n",
    "e1.show()\n",
    "print(getattr(e1,'name'))\n",
    "print(hasattr(e1,'salary'))\n",
    "setattr(e1,'height',152)\n",
    "print(getattr(e1,'height',152))\n",
    "delattr(emp,'a')\n",
    "print(hasattr(e1,'salary'))"
   ]
  },
  {
   "cell_type": "code",
   "execution_count": 13,
   "metadata": {},
   "outputs": [
    {
     "name": "stdout",
     "output_type": "stream",
     "text": [
      "a\n",
      "b\n",
      "2\n"
     ]
    }
   ],
   "source": [
    "def fun():\n",
    "    try:\n",
    "        print(\"a\")\n",
    "        return 1\n",
    "    finally:\n",
    "        print('b')\n",
    "        return 2\n",
    "print(fun())"
   ]
  },
  {
   "cell_type": "code",
   "execution_count": 18,
   "metadata": {},
   "outputs": [
    {
     "name": "stdout",
     "output_type": "stream",
     "text": [
      "a\n"
     ]
    }
   ],
   "source": [
    "try:\n",
    "    c='a'\n",
    "    a=1\n",
    "    b=0\n",
    "    print(c+a+b)\n",
    "except TypeError:\n",
    "    print(\"a\")\n",
    "except ZeroDivisionError:\n",
    "    print(\"0\")"
   ]
  },
  {
   "cell_type": "code",
   "execution_count": 32,
   "metadata": {
    "scrolled": true
   },
   "outputs": [
    {
     "name": "stdout",
     "output_type": "stream",
     "text": [
      "1\n"
     ]
    }
   ],
   "source": [
    "l=(i for i in range(1,9))\n",
    "print(next(l))"
   ]
  },
  {
   "cell_type": "code",
   "execution_count": 24,
   "metadata": {
    "scrolled": true
   },
   "outputs": [
    {
     "name": "stdout",
     "output_type": "stream",
     "text": [
      "10\n",
      "20\n",
      "30\n"
     ]
    }
   ],
   "source": [
    "def fun():\n",
    "    yield 10\n",
    "    yield 20\n",
    "    yield 30\n",
    "f=fun()\n",
    "for i in f:\n",
    "    print(i)"
   ]
  },
  {
   "cell_type": "code",
   "execution_count": 43,
   "metadata": {},
   "outputs": [
    {
     "name": "stdout",
     "output_type": "stream",
     "text": [
      "1\n",
      "4\n",
      "9\n"
     ]
    }
   ],
   "source": [
    "def gen_fun(n):\n",
    "    for i in range(1,n+1):\n",
    "        yield(i**2)\n",
    "g=gen_fun(10)\n",
    "print(next(g))\n",
    "print(next(g))\n",
    "print(next(g))"
   ]
  },
  {
   "cell_type": "code",
   "execution_count": 47,
   "metadata": {},
   "outputs": [
    {
     "name": "stdout",
     "output_type": "stream",
     "text": [
      "Enter The Number:- 1\n"
     ]
    },
    {
     "ename": "Exception",
     "evalue": "Please enter number less then 0",
     "output_type": "error",
     "traceback": [
      "\u001b[1;31m---------------------------------------------------------------------------\u001b[0m",
      "\u001b[1;31mException\u001b[0m                                 Traceback (most recent call last)",
      "\u001b[1;32m<ipython-input-47-eb5f574b29cc>\u001b[0m in \u001b[0;36m<module>\u001b[1;34m\u001b[0m\n\u001b[0;32m      1\u001b[0m \u001b[0mn\u001b[0m\u001b[1;33m=\u001b[0m\u001b[0mint\u001b[0m\u001b[1;33m(\u001b[0m\u001b[0minput\u001b[0m\u001b[1;33m(\u001b[0m\u001b[1;34m\"Enter The Number:- \"\u001b[0m\u001b[1;33m)\u001b[0m\u001b[1;33m)\u001b[0m\u001b[1;33m\u001b[0m\u001b[1;33m\u001b[0m\u001b[0m\n\u001b[0;32m      2\u001b[0m \u001b[1;32mif\u001b[0m \u001b[0mn\u001b[0m\u001b[1;33m>\u001b[0m\u001b[1;36m0\u001b[0m\u001b[1;33m:\u001b[0m\u001b[1;33m\u001b[0m\u001b[1;33m\u001b[0m\u001b[0m\n\u001b[1;32m----> 3\u001b[1;33m     \u001b[1;32mraise\u001b[0m \u001b[0mException\u001b[0m\u001b[1;33m(\u001b[0m\u001b[1;34m\"Please enter number less then 0\"\u001b[0m\u001b[1;33m)\u001b[0m\u001b[1;33m\u001b[0m\u001b[1;33m\u001b[0m\u001b[0m\n\u001b[0m\u001b[0;32m      4\u001b[0m \u001b[1;32melse\u001b[0m\u001b[1;33m:\u001b[0m\u001b[1;33m\u001b[0m\u001b[1;33m\u001b[0m\u001b[0m\n\u001b[0;32m      5\u001b[0m     \u001b[0mprint\u001b[0m\u001b[1;33m(\u001b[0m\u001b[0mn\u001b[0m\u001b[1;33m)\u001b[0m\u001b[1;33m\u001b[0m\u001b[1;33m\u001b[0m\u001b[0m\n",
      "\u001b[1;31mException\u001b[0m: Please enter number less then 0"
     ]
    }
   ],
   "source": [
    "n=int(input(\"Enter The Number:- \"))\n",
    "if n>0:\n",
    "    raise Exception(\"Please enter number less then 0\")\n",
    "else:\n",
    "    print(n)"
   ]
  },
  {
   "cell_type": "code",
   "execution_count": 4,
   "metadata": {
    "scrolled": true
   },
   "outputs": [
    {
     "name": "stdout",
     "output_type": "stream",
     "text": [
      "Enter The List:- [1,2,3,4,5,6]\n",
      "1\n",
      "Enter The Element:- 8\n",
      "8\n",
      "8\n",
      "[2, 3, 4, 5, 6]\n"
     ]
    }
   ],
   "source": [
    "# 572\n",
    "class SQ:\n",
    "    user=\"\"\n",
    "    def __init__(self,l):\n",
    "        self.l=l\n",
    "    def shift(self):\n",
    "        if len(l)==0:\n",
    "            raise Exception(\"Length of lsit is 0\")\n",
    "        return self.l.pop(0)\n",
    "    def unshift(self,a):\n",
    "        self.l.insert(0,a)\n",
    "    def push(self,a):\n",
    "        self.l.append(a)\n",
    "    def pop(self):\n",
    "        if len(l)==0:\n",
    "            raise Exception(\"Length of lsit is 0\")\n",
    "        return self.l.pop()\n",
    "    def remove(self):\n",
    "        if len(l)==0:\n",
    "            raise Exception(\"Length of lsit is 0\")\n",
    "        return self.l.pop(self.l.index(max(self.l)))\n",
    "    def show(self):\n",
    "        print(self.l)\n",
    "l=eval(input(\"Enter The List:- \"))\n",
    "sq=SQ(l)\n",
    "print(sq.shift())\n",
    "x=int(input(\"Enter The Element:- \"))\n",
    "sq.unshift(x)\n",
    "sq.push(x)\n",
    "print(sq.pop())\n",
    "print(sq.remove())\n",
    "sq.show()"
   ]
  },
  {
   "cell_type": "code",
   "execution_count": 8,
   "metadata": {},
   "outputs": [
    {
     "name": "stdout",
     "output_type": "stream",
     "text": [
      "Enter The Name:- B\n",
      "Enter The Roll Number:- 2\n",
      "Enter The Marks1:- 50\n",
      "Enter The Marks2:- 50\n",
      "\n",
      "Name:- A\n",
      "Roll Number:- 1\n",
      "Marks1:- 50\n",
      "Marks2:- 60\n",
      "\n",
      "Name:- B\n",
      "Roll Number:- 2\n",
      "Marks1:- 50.0\n",
      "Marks2:- 50.0\n",
      "Enter the roll number to search:- 2\n",
      "\n",
      "Name:- B\n",
      "Roll Number:- 2\n",
      "Marks1:- 50.0\n",
      "Marks2:- 50.0\n",
      "Enter the roll number to delete:- 2\n",
      "Enter Old Roll Number:- 1\n",
      "Enter The New Roll Number:- 5\n",
      "\n",
      "Name:- A\n",
      "Roll Number:- 5\n",
      "Marks1:- 50\n",
      "Marks2:- 60\n"
     ]
    }
   ],
   "source": [
    "# 566\n",
    "class Student:\n",
    "    Name=\"\"\n",
    "    RollNo=0\n",
    "    Marks1=0.0\n",
    "    Marks2=0.0\n",
    "    s=list()\n",
    "    def __init__(self,name,rollno,m1,m2):\n",
    "        self.Marks1=m1\n",
    "        self.Marks2=m2\n",
    "        self.Name=name\n",
    "        self.RollNo=rollno\n",
    "        Student.s.append(self)\n",
    "    def accept(self):\n",
    "        name=input(\"Enter The Name:- \")\n",
    "        roll=int(input(\"Enter The Roll Number:- \"))\n",
    "        Marks1=float(input(\"Enter The Marks1:- \"))\n",
    "        Marks2=float(input(\"Enter The Marks2:- \"))\n",
    "        student=Student(name,roll,Marks1,Marks2)\n",
    "    def display(self):\n",
    "        for i in Student.s:\n",
    "            print(f\"\\nName:- {i.Name}\\nRoll Number:- {i.RollNo}\\nMarks1:- {i.Marks1}\\nMarks2:- {i.Marks2}\")\n",
    "    def search(self):\n",
    "        r=int(input(\"Enter the roll number to search:- \"))\n",
    "        for i in Student.s:\n",
    "            if i.RollNo==r:\n",
    "                print(f\"\\nName:- {i.Name}\\nRoll Number:- {i.RollNo}\\nMarks1:- {i.Marks1}\\nMarks2:- {i.Marks2}\")\n",
    "                break\n",
    "        else:\n",
    "            print(\"No such Roll Number Exist\")\n",
    "    def delete(self):\n",
    "        r=int(input(\"Enter the roll number to delete:- \"))\n",
    "        for i  in Student.s:\n",
    "            if i.RollNo==r:\n",
    "                Student.s.remove(i)\n",
    "                break\n",
    "        else:\n",
    "            print(\"No such Roll Number Exist\")\n",
    "    def update(self):\n",
    "        o=int(input(\"Enter Old Roll Number:- \"))\n",
    "        for i in Student.s:\n",
    "            if i.RollNo==o:\n",
    "                n=int(input(\"Enter The New Roll Number:- \"))\n",
    "                i.RollNo=n\n",
    "                break\n",
    "        else:\n",
    "            print(\"No such Roll Number Exist\")\n",
    "s=Student(\"A\",1,50,60)\n",
    "s.accept()\n",
    "s.display()\n",
    "s.search()\n",
    "s.delete()\n",
    "s.update()\n",
    "s.display()"
   ]
  }
 ],
 "metadata": {
  "kernelspec": {
   "display_name": "Python 3",
   "language": "python",
   "name": "python3"
  },
  "language_info": {
   "codemirror_mode": {
    "name": "ipython",
    "version": 3
   },
   "file_extension": ".py",
   "mimetype": "text/x-python",
   "name": "python",
   "nbconvert_exporter": "python",
   "pygments_lexer": "ipython3",
   "version": "3.8.5"
  }
 },
 "nbformat": 4,
 "nbformat_minor": 4
}
