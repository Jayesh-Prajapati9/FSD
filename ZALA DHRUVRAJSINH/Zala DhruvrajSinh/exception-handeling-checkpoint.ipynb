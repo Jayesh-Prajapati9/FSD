{
 "cells": [
  {
   "cell_type": "code",
   "execution_count": 3,
   "metadata": {},
   "outputs": [
    {
     "name": "stdout",
     "output_type": "stream",
     "text": [
      "1.0\n",
      "No Error\n",
      "code completed\n"
     ]
    }
   ],
   "source": [
    "try:\n",
    "    a=5\n",
    "    b=5\n",
    "    print(a/b)\n",
    "except:\n",
    "    print(\"Error\")\n",
    "else:\n",
    "    print(\"No Error\")\n",
    "finally:\n",
    "    print(\"code completed\")"
   ]
  },
  {
   "cell_type": "code",
   "execution_count": 7,
   "metadata": {},
   "outputs": [
    {
     "name": "stdout",
     "output_type": "stream",
     "text": [
      "\n",
      "5\n",
      "2.5\n",
      "list index out of range\n"
     ]
    }
   ],
   "source": [
    "try:\n",
    "    m=5\n",
    "    f=open(\"sample.txt\",\"r\")\n",
    "    print(f.read())\n",
    "    print(m)\n",
    "    print(5/2)\n",
    "    l=[1,2,3]\n",
    "    print(l[100])\n",
    "except FileNotFoundError:\n",
    "    print(\"A\")\n",
    "except AttributeError:\n",
    "    print(\"B\")\n",
    "except Exception as e:\n",
    "    print(e)"
   ]
  },
  {
   "cell_type": "code",
   "execution_count": 16,
   "metadata": {},
   "outputs": [
    {
     "name": "stdout",
     "output_type": "stream",
     "text": [
      "Enter number:- fn\n"
     ]
    },
    {
     "ename": "ValueError",
     "evalue": "invalid literal for int() with base 10: 'fn'",
     "output_type": "error",
     "traceback": [
      "\u001b[1;31m---------------------------------------------------------------------------\u001b[0m",
      "\u001b[1;31mValueError\u001b[0m                                Traceback (most recent call last)",
      "\u001b[1;32m<ipython-input-16-e153d2f5eb55>\u001b[0m in \u001b[0;36m<module>\u001b[1;34m\u001b[0m\n\u001b[1;32m----> 1\u001b[1;33m \u001b[0mn\u001b[0m\u001b[1;33m=\u001b[0m\u001b[0mint\u001b[0m\u001b[1;33m(\u001b[0m\u001b[0minput\u001b[0m\u001b[1;33m(\u001b[0m\u001b[1;34m\"Enter number:- \"\u001b[0m\u001b[1;33m)\u001b[0m\u001b[1;33m)\u001b[0m\u001b[1;33m\u001b[0m\u001b[1;33m\u001b[0m\u001b[0m\n\u001b[0m\u001b[0;32m      2\u001b[0m \u001b[1;32massert\u001b[0m \u001b[0mn\u001b[0m\u001b[1;33m>\u001b[0m\u001b[1;36m10\u001b[0m\u001b[1;33m,\u001b[0m\u001b[1;36m1\u001b[0m\u001b[1;33m\u001b[0m\u001b[1;33m\u001b[0m\u001b[0m\n",
      "\u001b[1;31mValueError\u001b[0m: invalid literal for int() with base 10: 'fn'"
     ]
    }
   ],
   "source": [
    "n=int(input(\"Enter number:- \"))\n",
    "assert n>10,1"
   ]
  },
  {
   "cell_type": "code",
   "execution_count": 1,
   "metadata": {},
   "outputs": [
    {
     "name": "stdout",
     "output_type": "stream",
     "text": [
      "2650282978032\n",
      "iPhone 16 Pro\n"
     ]
    }
   ],
   "source": [
    "class mobile:\n",
    "    def __init__ (self):\n",
    "        self.model=\"iPhone 16 Pro\"\n",
    "        print(id(self))\n",
    "    def show(self):\n",
    "        print(self.model)\n",
    "    def __del__ (self):\n",
    "        print(\"object deleted\")\n",
    "a=mobile()\n",
    "a.show()"
   ]
  },
  {
   "cell_type": "code",
   "execution_count": 25,
   "metadata": {},
   "outputs": [
    {
     "name": "stdout",
     "output_type": "stream",
     "text": [
      "Enter Subject:- \n",
      ":- 50\n"
     ]
    }
   ],
   "source": [
    "class student:\n",
    "    sem=3\n",
    "    def __init__(self,m):\n",
    "        self.subject=input(\"Enter Subject:- \")\n",
    "        student.sem=4\n",
    "        self.marks=m\n",
    "        self.show()\n",
    "    def show(self):\n",
    "        print(f\"{self.subject}:- {self.marks}\")\n",
    "s=student(50)"
   ]
  },
  {
   "cell_type": "code",
   "execution_count": 5,
   "metadata": {},
   "outputs": [
    {
     "name": "stdout",
     "output_type": "stream",
     "text": [
      "1.For Login\n",
      "2.To Change Password\n",
      "3.To Check Balance\n",
      "4.For Withdraw\n",
      "5.For Deposit\n",
      "6.To Exit\n",
      "Enter Your Choice:- 1\n",
      "Enter Username:- user1\n",
      "Enter Password:- pass1\n",
      "Enter Balance:- 500\n",
      "Login Successfull\n",
      "1.For Login\n",
      "2.To Change Password\n",
      "3.To Check Balance\n",
      "4.For Withdraw\n",
      "5.For Deposit\n",
      "6.To Exit\n",
      "Enter Your Choice:- 4\n",
      "Enter The Amount To Withdraw:- 499\n",
      "Withdrawl Successfull!\n",
      "Available Balance:-1\n",
      "1.For Login\n",
      "2.To Change Password\n",
      "3.To Check Balance\n",
      "4.For Withdraw\n",
      "5.For Deposit\n",
      "6.To Exit\n",
      "Enter Your Choice:- 5\n",
      "Enter The Amount To Deposit:- -1\n",
      "Enter A valid Amount To Deposit\n",
      "1.For Login\n",
      "2.To Change Password\n",
      "3.To Check Balance\n",
      "4.For Withdraw\n",
      "5.For Deposit\n",
      "6.To Exit\n",
      "Enter Your Choice:- 5\n",
      "Enter The Amount To Deposit:- -1\n",
      "Enter A valid Amount To Deposit\n",
      "1.For Login\n",
      "2.To Change Password\n",
      "3.To Check Balance\n",
      "4.For Withdraw\n",
      "5.For Deposit\n",
      "6.To Exit\n",
      "Enter Your Choice:- 6\n"
     ]
    }
   ],
   "source": [
    "# write a program to create a class called bank which has a dictionary stored as a class variable which contains username \n",
    "# and passwords of customers the class should have following method:-\n",
    "# 1 to login, 2 to change password,3 to check balance,4 to withdraw, 5 to deposit\n",
    "# your code should be running in a continuous loop which asks the user for diffrent options until user wants to exit\n",
    "class bank:\n",
    "    d={\"user1\":\"pass1\",\"user2\":\"pass2\",\"user3\":\"pass3\",\"user4\":\"pass4\"}\n",
    "    a=False\n",
    "    u=\"\"\n",
    "    p=\"\"\n",
    "    b=0\n",
    "    def login(self,username,password,bal):\n",
    "        self.username=username\n",
    "        self.password=password\n",
    "        self.bal=bal\n",
    "        if self.username in bank.d.keys():\n",
    "            bank.a=True\n",
    "        if self.password in bank.d.values():\n",
    "            bank.a=True\n",
    "        else:\n",
    "            bank.a=False\n",
    "        if bank.a:\n",
    "            bank.u=self.username\n",
    "            bank.p=self.password\n",
    "            bank.b=self.bal\n",
    "    def change_password(self):\n",
    "        old_pass=input(\"Enter Old Password:- \")\n",
    "        if old_pass==self.p:\n",
    "            self.new_pass=input(\"Enter New Password:- \")\n",
    "            bank.p=self.new_pass\n",
    "            bank.d[self.u]=bank.p\n",
    "        else:\n",
    "            print(\"Old Password Was Invalid!\")\n",
    "    def balance(self):\n",
    "            print(f\"Balance:- {bank.b}\")\n",
    "    def withdraw(self,amnt):\n",
    "        bank.b-=amnt\n",
    "    def deposit(self,amnt):\n",
    "        bank.b+=amnt\n",
    "b=True\n",
    "obj=bank()\n",
    "while b:\n",
    "    print(\"1.For Login\")\n",
    "    print(\"2.To Change Password\")\n",
    "    print(\"3.To Check Balance\")\n",
    "    print(\"4.For Withdraw\")\n",
    "    print(\"5.For Deposit\")\n",
    "    print(\"6.To Exit\")\n",
    "    ch=int(input(\"Enter Your Choice:- \"))\n",
    "    if ch==1:\n",
    "        user=input(\"Enter Username:- \")\n",
    "        pas=input(\"Enter Password:- \")\n",
    "        bal=int(input(\"Enter Balance:- \"))\n",
    "        obj.login(user,pas,bal)\n",
    "        if obj.a:\n",
    "            print(\"Login Successfull\")\n",
    "        else:\n",
    "            print(\"Username or Password Is Invalid\")\n",
    "    elif ch==2:\n",
    "        if obj.a:\n",
    "            obj.change_password()\n",
    "        else:\n",
    "            print(\"First Login To Your Account\")\n",
    "    elif ch==3:\n",
    "        if obj.a:\n",
    "            obj.balance()\n",
    "        else:\n",
    "            print(\"First Login To Your Account\")\n",
    "    elif ch==4:\n",
    "        if obj.a:\n",
    "            amnt=int(input(\"Enter The Amount To Withdraw:- \"))\n",
    "            if amnt>obj.b:\n",
    "                print(\"Insufficient balance\")\n",
    "            else:\n",
    "                obj.withdraw(amnt)\n",
    "                print(\"Withdrawl Successfull!\")\n",
    "                print(f\"Available Balance:- {obj.b}\")\n",
    "        else:\n",
    "            print(\"First Login To Your Account\")\n",
    "    elif ch==5:\n",
    "        if obj.a:\n",
    "            amnt=int(input(\"Enter The Amount To Deposit:- \"))\n",
    "            if amnt<=0:\n",
    "                print(\"Enter A valid Amount To Deposit\")\n",
    "            else:\n",
    "                obj.deposit(amnt)\n",
    "        else:\n",
    "            print(\"First Login To Your Account\")\n",
    "    elif ch==6:\n",
    "        b=False\n",
    "    else:\n",
    "        print(\"Enter A Valid Choice!\")"
   ]
  },
  {
   "cell_type": "code",
   "execution_count": 14,
   "metadata": {},
   "outputs": [
    {
     "name": "stdout",
     "output_type": "stream",
     "text": [
      "Enter X coordinate:- 1\n",
      "Enter Y coordinate:- 2\n",
      "2.23606797749979\n",
      "(2, 3)\n",
      "(2, -3)\n",
      "7.0710678118654755\n"
     ]
    }
   ],
   "source": [
    "# 570\n",
    "class Point:\n",
    "    x=0\n",
    "    y=0\n",
    "    def distance_from_origin(self,x,y):\n",
    "        Point.x=x\n",
    "        Point.y=y\n",
    "        self.x1=0\n",
    "        self.y1=0\n",
    "        self.distance=((self.x1-x)**2+(self.y1-y)**2)**0.5\n",
    "        return self.distance\n",
    "    def translate(self,tx,ty):\n",
    "        Point.x+=tx\n",
    "        Point.y+=ty\n",
    "        return (Point.x,Point.y)\n",
    "    def reflect_x(self):\n",
    "        Point.y*=-1\n",
    "        return(Point.x,Point.y)\n",
    "    def distance_to_point(self,object):\n",
    "        self.distance1=((Point.x-object.x)**2+(Point.y-object.y)**2)**0.5\n",
    "        return self.distance1\n",
    "x=int(input(\"Enter X coordinate:- \"))\n",
    "y=int(input(\"Enter Y coordinate:- \"))\n",
    "obj=Point()\n",
    "obj1=Point()\n",
    "obj1.x=3\n",
    "obj1.y=4\n",
    "print(obj.distance_from_origin(x,y))\n",
    "print(obj.translate(1,1))\n",
    "print(obj.reflect_x())\n",
    "dist=float(obj.distance_to_point(obj1))\n",
    "print(dist)"
   ]
  }
 ],
 "metadata": {
  "kernelspec": {
   "display_name": "Python 3",
   "language": "python",
   "name": "python3"
  },
  "language_info": {
   "codemirror_mode": {
    "name": "ipython",
    "version": 3
   },
   "file_extension": ".py",
   "mimetype": "text/x-python",
   "name": "python",
   "nbconvert_exporter": "python",
   "pygments_lexer": "ipython3",
   "version": "3.8.5"
  }
 },
 "nbformat": 4,
 "nbformat_minor": 4
}
