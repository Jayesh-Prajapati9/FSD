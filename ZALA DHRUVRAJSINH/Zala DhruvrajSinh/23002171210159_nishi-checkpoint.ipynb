{
 "cells": [
  {
   "cell_type": "code",
   "execution_count": null,
   "metadata": {},
   "outputs": [],
   "source": [
    "l=eval(input(\"enter list: \"))\n",
    "#[\"lessonplan\",\"lesson\",\"lees\",\"length\"]\n",
    "cp=\"\"\n",
    "n=len(l)\n",
    "l1=l2=[]\n",
    "for i in range(n):\n",
    "    for j in l[i],l[i+1]:\n",
    "        l1+=l[i]\n",
    "        l2+=l[i+1]\n",
    "        #print(l1,l2)\n",
    "    if l1[i]==l2[i]:\n",
    "        cp+=l1[i]\n",
    "        print(cp)"
   ]
  },
  {
   "cell_type": "code",
   "execution_count": null,
   "metadata": {},
   "outputs": [],
   "source": [
    "s=input(\"enter string(only enter:'(',')','{','}','[',']'): \")\n",
    "c=c1=c2=0\n",
    "\n",
    "for i in range(len(s)):\n",
    "    if s[i]=='(':\n",
    "        c+=1\n",
    "    elif s[i]==')':\n",
    "        c+=1\n",
    "    elif s[i]=='{':\n",
    "        c1+=1\n",
    "    elif s[i]=='}':\n",
    "        c1+=1\n",
    "    elif s[i]=='[':\n",
    "        c2+=1\n",
    "    elif s[i]==']':\n",
    "        c2+=1\n",
    "if c%2==0 and c1%2==0 and c2%2==0:\n",
    "    print(\"valid\")    \n",
    "else:\n",
    "    print(\"invalid\")"
   ]
  }
 ],
 "metadata": {
  "kernelspec": {
   "display_name": "Python 3",
   "language": "python",
   "name": "python3"
  },
  "language_info": {
   "codemirror_mode": {
    "name": "ipython",
    "version": 3
   },
   "file_extension": ".py",
   "mimetype": "text/x-python",
   "name": "python",
   "nbconvert_exporter": "python",
   "pygments_lexer": "ipython3",
   "version": "3.8.5"
  }
 },
 "nbformat": 4,
 "nbformat_minor": 4
}
